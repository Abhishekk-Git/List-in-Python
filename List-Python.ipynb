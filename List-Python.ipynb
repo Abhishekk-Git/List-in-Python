{
 "cells": [
  {
   "cell_type": "markdown",
   "id": "96dd5b81",
   "metadata": {},
   "source": [
    "# List "
   ]
  },
  {
   "cell_type": "markdown",
   "id": "5c4d359f",
   "metadata": {},
   "source": [
    " List is one of the important built in data type in python. List literals are written within square brackets [ ] where elements are separated by comma. \n",
    "#### Characteristics of a Python List\n",
    "The various characteristics of a list are:\n",
    "\n",
    "- Ordered: Lists maintain the order in which the data is inserted.\n",
    "- Mutable: In list element(s) are changeable. It means that we can modify the items stored within the list.\n",
    "- Heterogenous: Lists can store elements of various data types.\n",
    "- Dynamic: List can expand or shrink automatically to accommodate the items accordingly.\n",
    "- Duplicate Elements: Lists allow us to store duplicate data."
   ]
  },
  {
   "cell_type": "code",
   "execution_count": 1,
   "id": "d0b563f6",
   "metadata": {},
   "outputs": [
    {
     "name": "stdout",
     "output_type": "stream",
     "text": [
      "[]\n"
     ]
    }
   ],
   "source": [
    "# We can use square bracket without any element to create the empty list.\n",
    "l1 = []\n",
    "print(l1)"
   ]
  },
  {
   "cell_type": "code",
   "execution_count": 2,
   "id": "c7a04274",
   "metadata": {},
   "outputs": [
    {
     "name": "stdout",
     "output_type": "stream",
     "text": [
      "[1, 2, 3, 4, 5, 6]\n"
     ]
    }
   ],
   "source": [
    "# Enter the elements and separate by comma inside the square bracket to create the list.\n",
    "l1=[1,2,3,4,5,6]         #Integer list\n",
    "print(l1)"
   ]
  },
  {
   "cell_type": "code",
   "execution_count": 3,
   "id": "5d25f756",
   "metadata": {},
   "outputs": [
    {
     "name": "stdout",
     "output_type": "stream",
     "text": [
      "[1.5, 2.5, 6.2, 8.2, 15.6]\n"
     ]
    }
   ],
   "source": [
    "l1=[1.5, 2.5, 6.2, 8.2, 15.6]         #Float list\n",
    "print(l1)"
   ]
  },
  {
   "cell_type": "code",
   "execution_count": 4,
   "id": "2322064f",
   "metadata": {},
   "outputs": [
    {
     "name": "stdout",
     "output_type": "stream",
     "text": [
      "['A', 'B', 'C', 'D']\n"
     ]
    }
   ],
   "source": [
    "l1=['A', \"B\", \"C\", 'D']         #String list\n",
    "print(l1)"
   ]
  },
  {
   "cell_type": "code",
   "execution_count": 5,
   "id": "9b59244a",
   "metadata": {},
   "outputs": [
    {
     "name": "stdout",
     "output_type": "stream",
     "text": [
      "[10, 35, 45.62, 78.12, 'Hello', 'Abhi']\n"
     ]
    }
   ],
   "source": [
    "l1=[10, 35, 45.62, 78.12, \"Hello\", 'Abhi']         #Heteregeneous datatype list\n",
    "print(l1)"
   ]
  },
  {
   "cell_type": "code",
   "execution_count": 6,
   "id": "2cb741ab",
   "metadata": {},
   "outputs": [
    {
     "name": "stdout",
     "output_type": "stream",
     "text": [
      "[10, 35, 20, 65, 35, 10, 10]\n"
     ]
    }
   ],
   "source": [
    "l1=[10, 35, 20, 65, 35, 10, 10]         #Duplicate items in the list\n",
    "print(l1)"
   ]
  },
  {
   "cell_type": "code",
   "execution_count": 8,
   "id": "6383749b",
   "metadata": {},
   "outputs": [
    {
     "name": "stdout",
     "output_type": "stream",
     "text": [
      "[10, 35, 45.62, 78.12, ['Hello', 'Abhi'], 12]\n"
     ]
    }
   ],
   "source": [
    "l1=[10, 35, 45.62, 78.12, [\"Hello\", 'Abhi'], 12]         #Nested list\n",
    "print(l1)"
   ]
  },
  {
   "cell_type": "markdown",
   "id": "71b36c34",
   "metadata": {},
   "source": [
    "## Accessing items from the list.\n",
    "### 1. Indexing\n",
    "\n",
    "Since list is ordered which means that every element in the list has certain position in the list. The position of any elemnt in the list is called the index of the element. With the help of index, we can easily find a particular element from the list. In list indexing is start from 0 and then 1, 2, and so on. Index 0 means the first element of the element, index 1 means the second element of the list and so on. We use [ ] (square brackets) to access the elements from the list using indexing. We pass index inside the square bracket to get the element from the list.\n",
    "\n",
    "There are two type of indexing in the list.\n",
    "- Positive Indexing: It always start from 0, 1, 2, and so on from left to right (--->).\n",
    "- Negative Indexing: always start from -1, -3, -3, and so on from right to left (<---)."
   ]
  },
  {
   "attachments": {
    "image.png": {
     "image/png": "[encoded data removed]"
    }
   },
   "cell_type": "markdown",
   "id": "049503b2",
   "metadata": {},
   "source": [
    "![image.png](attachment:image.png)"
   ]
  },
  {
   "cell_type": "markdown",
   "id": "be34e64c",
   "metadata": {},
   "source": [
    "#### Accessing elements from the list using Positive Indexing"
   ]
  },
  {
   "cell_type": "code",
   "execution_count": 3,
   "id": "6d36a99f",
   "metadata": {},
   "outputs": [
    {
     "name": "stdout",
     "output_type": "stream",
     "text": [
      "The element at 0th index is 2.\n",
      "The element at 0th index is 4.\n",
      "The element at 0th index is 5.\n",
      "The element at 0th index is 8.\n",
      "The element at 0th index is 9.\n"
     ]
    }
   ],
   "source": [
    "l=[2, 4, 5, 8, 9]\n",
    "print(f\"The element at 0th index is {l[0]}.\")    # ---> Here we are using 0th index to find the first element from list.\n",
    "print(f\"The element at 1st index is {l[1]}.\")    # ---> Here we are using 1st index to find the second element from list.\n",
    "print(f\"The element at 2nd index is {l[2]}.\")    # ---> Here we are using 2nd index to find the third element from list.\n",
    "print(f\"The element at 3rd index is {l[3]}.\")    # ---> Here we are using 3rd index to find the fourth element from list.\n",
    "print(f\"The element at 4th index is {l[4]}.\")    # ---> Here we are using 4th index to find the fifth element from list."
   ]
  },
  {
   "cell_type": "markdown",
   "id": "ea51191e",
   "metadata": {},
   "source": [
    "__Note__: Positive indexing start from 0 not 1 so take care of this while using positive indexing."
   ]
  },
  {
   "cell_type": "code",
   "execution_count": 4,
   "id": "8dfc8f4e",
   "metadata": {},
   "outputs": [
    {
     "name": "stdout",
     "output_type": "stream",
     "text": [
      "Sayo Nara\n"
     ]
    }
   ],
   "source": [
    "l = [\"Hello\", \"Namaste\", \"Sayo Nara\", \"Vanakkam\"]\n",
    "print(l[2])\n",
    "# Here we want to access \"Sayo Nara\" from the list, so starting from 0, the index of element \"Sayo Nara\" is 2 not 3, although\n",
    "#  when we counting the position of element \"Sayo Nara\" in the list, it comes out 3 but its index is 2 so keep in mind, for \n",
    "# positive indexing, the index is always 1 less than the position of the element in the list from left to right."
   ]
  },
  {
   "cell_type": "markdown",
   "id": "142e96bd",
   "metadata": {},
   "source": [
    "Consider the nested list.\n",
    "\n",
    "m = [2, 4, 5, [\"Hello\", \"Namaste\", \"Sayo Nara\", \"Vanakkam\"], 8, 9]\n",
    "\n",
    "Now we want to access the element \"Namaste\" from the nested list using positive indexing. Since the element \"Namaste\" is inside the list which is also inside another list m. The list \"[\"Hello\", \"Namaste\", \"Sayo Nara\", \"Vanakkam\"]\" is considered as one element of the main list m. This means the list m have only 6 elements where the list \"[\"Hello\", \"Namaste\", \"Sayo Nara\", \"Vanakkam\"]\" is at 4th position or at 3rd index of  the main list m. \n",
    "\n",
    "Now we have the index of the inside list which is 3, we can access this inside list using m[3], this will give the complete inside list, \"[\"Hello\", \"Namaste\", \"Sayo Nara\", \"Vanakkam\"]\". Now again we have to find a particular element from the inside list say \"Namaste\" which is at 2nd position but at index of 1. So, m[3][1] will give the element \"Namaste\".\n"
   ]
  },
  {
   "cell_type": "code",
   "execution_count": 5,
   "id": "49ad1ba9",
   "metadata": {},
   "outputs": [
    {
     "name": "stdout",
     "output_type": "stream",
     "text": [
      "Namaste\n"
     ]
    }
   ],
   "source": [
    "m = [2, 4, 5, [\"Hello\", \"Namaste\", \"Sayo Nara\", \"Vanakkam\"], 8, 9]\n",
    "print(m[3][1])"
   ]
  },
  {
   "cell_type": "markdown",
   "id": "c64a4d9c",
   "metadata": {},
   "source": [
    "#### Accessing elements from the list using Negative Indexing"
   ]
  },
  {
   "cell_type": "code",
   "execution_count": 7,
   "id": "3576e8f4",
   "metadata": {},
   "outputs": [
    {
     "name": "stdout",
     "output_type": "stream",
     "text": [
      "The element at -1 index is 9.\n",
      "The element at -2 index is 8.\n",
      "The element at -3 index is 5.\n",
      "The element at -4 index is 4.\n",
      "The element at -5 index is 2.\n"
     ]
    }
   ],
   "source": [
    "l=[2, 4, 5, 8, 9]\n",
    "print(f\"The element at -1 index is {l[-1]}.\")    # ---> Here we are using -1 index to find the Last element from list.\n",
    "print(f\"The element at -2 index is {l[-2]}.\")    # ---> Here we are using -2 index to find the second last element from list.\n",
    "print(f\"The element at -3 index is {l[-3]}.\")    # ---> Here we are using -3 index to find the third from list.\n",
    "print(f\"The element at -4 index is {l[-4]}.\")    # ---> Here we are using -4 index to find the second element from list.\n",
    "print(f\"The element at -5 index is {l[-5]}.\")    # ---> Here we are using -5 index to find the first element from list."
   ]
  },
  {
   "cell_type": "markdown",
   "id": "0e0e1bb6",
   "metadata": {},
   "source": [
    "__Note__: Negative indexing start from right to left whereas positive indexing start from left to right."
   ]
  },
  {
   "cell_type": "code",
   "execution_count": 9,
   "id": "532ccbae",
   "metadata": {},
   "outputs": [
    {
     "name": "stdout",
     "output_type": "stream",
     "text": [
      "Namaste\n"
     ]
    }
   ],
   "source": [
    "m = [2, 4, 5, [\"Hello\", \"Namaste\", \"Sayo Nara\", \"Vanakkam\"], 8, 9]\n",
    "print(m[-3][-3])\n",
    "# Here we are using negative indexing to access the element from the nested list."
   ]
  },
  {
   "cell_type": "code",
   "execution_count": 13,
   "id": "95bf41e5",
   "metadata": {},
   "outputs": [
    {
     "name": "stdout",
     "output_type": "stream",
     "text": [
      "Using positive indexing: 4\n",
      "Using negative indexing: 4\n"
     ]
    }
   ],
   "source": [
    "print(f\"Using positive indexing: {m[1]}\")\n",
    "print(f\"Using negative indexing: {m[-5]}\")"
   ]
  },
  {
   "cell_type": "markdown",
   "id": "37bb3280",
   "metadata": {},
   "source": [
    "### 2. Slicing\n",
    "Slicing is another technique like indexing to access elements from the list. It is basically used to access the range of element from the list. Using slicing, we can access one element as well as more than one element from the list. We again use square brackets [ ] for slicing but along with square bracker we alse use : (colon) to give the range of index for the particular range of elements. \n",
    "\n",
    "__Syntax__: list[Start_index : Stop_index : Step]\n",
    "\n",
    "By default, step is 1 until any other value given to it. if we ignore the step, then we don't need to use the second colon, we can avoid it. \n",
    "\n",
    "__Syntax__ -->list[Start_index : Stop_index ]  (by default step is 1.)\n",
    "\n",
    "__Start_index__: This basically tells from which index we have to fetch the elements.\n",
    "\n",
    "__Stop_index__: This basically tells upto which index we have to fetch the elements. Note: Stop index is exclusive.\n",
    "\n",
    "__Step__: This basically tells to go the each mentioned step element in the list after the fetched element. For example; step=1 means go the immediate next element, step=2 means go the each second element from the fetched elements.\n",
    "\n",
    "__Note__: Slicing gives the element in the list form irrespective of the number of elements."
   ]
  },
  {
   "cell_type": "markdown",
   "id": "71f158c0",
   "metadata": {},
   "source": [
    "####  Positive Slicing with positive step\n",
    "Here we used positive index and positive step to slice out the list.\n",
    "\n",
    "__Note__: The starting index must be __smaller than__ the stop index else it will display blank or empty element."
   ]
  },
  {
   "cell_type": "code",
   "execution_count": 18,
   "id": "c9ace0b9",
   "metadata": {},
   "outputs": [
    {
     "name": "stdout",
     "output_type": "stream",
     "text": [
      "[4, 5, 8]\n"
     ]
    }
   ],
   "source": [
    "l=[2, 4, 5, 8, 9]\n",
    "print(l[1:4:1])\n",
    "# Here, staring index is 1 and at this index, the element is 4. Stopping index is 4 and at this index, the element is 9 but \n",
    "# since the stopping index is exclusive so the last value will be 8 instead of 9 that is at the index of 3 rather than index 4.\n",
    "# The step size is 1 which means fetch all element consecutive without skipping element from 4 to 8 in the list."
   ]
  },
  {
   "cell_type": "code",
   "execution_count": 20,
   "id": "a6cd92c1",
   "metadata": {},
   "outputs": [
    {
     "name": "stdout",
     "output_type": "stream",
     "text": [
      "[4, 8]\n"
     ]
    }
   ],
   "source": [
    "l=[2, 4, 5, 8, 9]\n",
    "print(l[1:4:2])\n",
    "# The step size is 2 which means fetch all the second elements."
   ]
  },
  {
   "cell_type": "code",
   "execution_count": 21,
   "id": "b18a5284",
   "metadata": {},
   "outputs": [
    {
     "name": "stdout",
     "output_type": "stream",
     "text": [
      "[4, 5, 8]\n"
     ]
    }
   ],
   "source": [
    "l=[2, 4, 5, 8, 9]\n",
    "print(l[1:4])\n",
    "# Here we didn't mentioned the step size, so it takes default value which is 1.\n",
    "# The step size is 2 which means fetch all the second elements."
   ]
  },
  {
   "cell_type": "code",
   "execution_count": 33,
   "id": "0b91010b",
   "metadata": {},
   "outputs": [
    {
     "name": "stdout",
     "output_type": "stream",
     "text": [
      "[2, 4, 5]\n"
     ]
    }
   ],
   "source": [
    "l=[2, 4, 5, 8, 9]\n",
    "print(l[:3])\n",
    "# Here the starting index is not given, so the starting index become 0 and the stop index is 3 that is why it displayed all \n",
    "# the element from the 0 index to the 2nd index as 3rd index is exclusive."
   ]
  },
  {
   "cell_type": "code",
   "execution_count": 34,
   "id": "ad42afcf",
   "metadata": {},
   "outputs": [
    {
     "name": "stdout",
     "output_type": "stream",
     "text": [
      "[5, 8, 9]\n"
     ]
    }
   ],
   "source": [
    "l=[2, 4, 5, 8, 9]\n",
    "print(l[2:])\n",
    "# Here the starting index is 2 and the stop index is not given that is why it displayed all the element from the starting\n",
    "# index to the last element of the list."
   ]
  },
  {
   "cell_type": "code",
   "execution_count": 22,
   "id": "f9ccf49a",
   "metadata": {},
   "outputs": [
    {
     "name": "stdout",
     "output_type": "stream",
     "text": [
      "[2, 4, 5, 8, 9]\n"
     ]
    }
   ],
   "source": [
    "l=[2, 4, 5, 8, 9]\n",
    "print(l[:])\n",
    "# Here we neither mentioned stating index, stop index or step size, so it display all the elements in the list."
   ]
  },
  {
   "cell_type": "markdown",
   "id": "c9771d5d",
   "metadata": {},
   "source": [
    "__Note__: If we didn't mentioned the starting index, then by default the starting index become 0. In the same way, if we didn't mentioned the stopping index, then by default the stop index become the last index of the list."
   ]
  },
  {
   "cell_type": "code",
   "execution_count": 23,
   "id": "9779d752",
   "metadata": {},
   "outputs": [
    {
     "name": "stdout",
     "output_type": "stream",
     "text": [
      "[]\n"
     ]
    }
   ],
   "source": [
    "print(l[5:2])"
   ]
  },
  {
   "cell_type": "markdown",
   "id": "311a89ac",
   "metadata": {},
   "source": [
    "__Note__: Also, if you observe that in positive slicing, the starting index is always less than or equal to stop index. if the starting index is greater than the stop index, then a blank or empty element is displayed."
   ]
  },
  {
   "cell_type": "markdown",
   "id": "76b27847",
   "metadata": {},
   "source": [
    "####  Negative Slicing with positive step\n",
    "Here, we used negative index and positive step to slice out the list.\n",
    "\n",
    "__Note__: The starting index must be __smaller than__ the stop index else it will display blank or empty element."
   ]
  },
  {
   "cell_type": "code",
   "execution_count": 31,
   "id": "1a9662e6",
   "metadata": {},
   "outputs": [
    {
     "name": "stdout",
     "output_type": "stream",
     "text": [
      "[2, 4, 5, 8]\n"
     ]
    }
   ],
   "source": [
    "l=[2, 4, 5, 8, 9]\n",
    "print(l[-5:-1:1])\n",
    "# Here, staring index is -5 and at this index, the element is 2. Stopping index is -1 and at this index, the element is 9 but \n",
    "# since the stopping index is exclusive so the last value will be 8 instead of 9 that is at the index of -2 rather than index\n",
    "# -1. The step size is 1 which means fetch all element consecutive without skipping element from 2 to 8 in the list."
   ]
  },
  {
   "cell_type": "code",
   "execution_count": 32,
   "id": "27757bd4",
   "metadata": {},
   "outputs": [
    {
     "name": "stdout",
     "output_type": "stream",
     "text": [
      "[]\n"
     ]
    }
   ],
   "source": [
    "l=[2, 4, 5, 8, 9]\n",
    "print(l[-1:-5:1])"
   ]
  },
  {
   "cell_type": "markdown",
   "id": "9d9ef815",
   "metadata": {},
   "source": [
    "__Note__: when we want to fetch the elements in the same order as the list, then remember staring index must be smaller than the stopping index (-5 < -1),else blank or empty element will displayed."
   ]
  },
  {
   "cell_type": "code",
   "execution_count": 35,
   "id": "24c8781f",
   "metadata": {},
   "outputs": [
    {
     "name": "stdout",
     "output_type": "stream",
     "text": [
      "[4, 5, 8, 9]\n"
     ]
    }
   ],
   "source": [
    "l=[2, 4, 5, 8, 9]\n",
    "print(l[-4:])\n",
    "# Here, the stop index is not given that is why it displayed all the elements from the index -4 to the end of all elements."
   ]
  },
  {
   "cell_type": "code",
   "execution_count": 38,
   "id": "d4a28a43",
   "metadata": {},
   "outputs": [
    {
     "name": "stdout",
     "output_type": "stream",
     "text": [
      "[2, 4, 5]\n"
     ]
    }
   ],
   "source": [
    "l=[2, 4, 5, 8, 9]\n",
    "print(l[:-2])\n",
    "# Here, the start index is not given that is why it displayed all the elements from the start up to the index -3 as index -2 is\n",
    "# exclusive."
   ]
  },
  {
   "cell_type": "markdown",
   "id": "0a4c7271",
   "metadata": {},
   "source": [
    "####  Positive Slicing with negative step\n",
    "Here, we used positive index and negative step to slice out the list.\n",
    "\n",
    "__Note__: The starting index must be __greater than__ the stop index else it will display blank or empty element. It display the list of element in reverse order."
   ]
  },
  {
   "cell_type": "code",
   "execution_count": 51,
   "id": "2154ef10",
   "metadata": {},
   "outputs": [
    {
     "name": "stdout",
     "output_type": "stream",
     "text": [
      "[9, 8]\n"
     ]
    }
   ],
   "source": [
    "l=[2, 4, 5, 8, 9]\n",
    "print(l[5:2:-1])\n",
    "# Here, the start index is greater than the stop index. Also, the list of elements comes out in reverse order compare to list."
   ]
  },
  {
   "cell_type": "code",
   "execution_count": 52,
   "id": "18297f6a",
   "metadata": {},
   "outputs": [
    {
     "name": "stdout",
     "output_type": "stream",
     "text": [
      "[9, 5]\n"
     ]
    }
   ],
   "source": [
    "l=[2, 4, 5, 8, 9]\n",
    "print(l[:1:-2])\n",
    "# Here, the step is negative that is why the fetching of element takes from right instead of left side. Also, the starting index\n",
    "# is not given that is why starting index become 0. The stopping index is 1 and at this index, the element is 4 so it exclude\n",
    "# this element and display element prior to this element that is upto 5.\n",
    "# Also, the step is -2 so it display each second element from the starting index value."
   ]
  },
  {
   "cell_type": "code",
   "execution_count": 56,
   "id": "07293a35",
   "metadata": {},
   "outputs": [
    {
     "name": "stdout",
     "output_type": "stream",
     "text": [
      "[9, 4]\n"
     ]
    }
   ],
   "source": [
    "l=[2, 4, 5, 8, 9]\n",
    "print(l[4::-3])\n",
    "# Here, the step is negative that is why the fetching of element takes from right instead of left side. Also, the starting index\n",
    "# is 4, so it display all element from the index 4 upto the one element before the stopping index.\n",
    "# Also, the step is -3 so it display each third element from the starting index value."
   ]
  },
  {
   "cell_type": "code",
   "execution_count": 57,
   "id": "8682afa5",
   "metadata": {},
   "outputs": [
    {
     "name": "stdout",
     "output_type": "stream",
     "text": [
      "[9, 5, 2]\n"
     ]
    }
   ],
   "source": [
    "l=[2, 4, 5, 8, 9]\n",
    "print(l[::-2])\n",
    "# Here, the step is -2 so it display each second element from the starting negative index value."
   ]
  },
  {
   "cell_type": "markdown",
   "id": "929a8833",
   "metadata": {},
   "source": [
    "####  Negative Slicing with negative step\n",
    "Here, we used negative index and negative step to slice out the list.\n",
    "\n",
    "__Note__: The starting index must be __greater than__ the stop index else it will display blank or empty element. It display the list of element in reverse order."
   ]
  },
  {
   "cell_type": "code",
   "execution_count": 46,
   "id": "5ebb233e",
   "metadata": {},
   "outputs": [
    {
     "name": "stdout",
     "output_type": "stream",
     "text": [
      "[9, 8, 5]\n"
     ]
    }
   ],
   "source": [
    "l=[2, 4, 5, 8, 9]\n",
    "print(l[-1:-4:-1])\n",
    "# Here, the start index is greater than the stop index. Also, the list of elements comes out in reverse order compare to list."
   ]
  },
  {
   "cell_type": "code",
   "execution_count": 47,
   "id": "0f8207ed",
   "metadata": {},
   "outputs": [
    {
     "name": "stdout",
     "output_type": "stream",
     "text": [
      "[9, 5]\n"
     ]
    }
   ],
   "source": [
    "l=[2, 4, 5, 8, 9]\n",
    "print(l[:-4:-2])\n",
    "# Here, the step is negative that is why the fetching of element takes from right instead of left side. Also, the starting index\n",
    "# is not given that is why starting index become -1. The stopping index is -4 and at this index, the element is 4 so it exclude\n",
    "# this element and display element prior to this element that is upto 5.\n",
    "# Also, the step is -2 so it display each second element from the starting index value."
   ]
  },
  {
   "cell_type": "code",
   "execution_count": 48,
   "id": "14ed0804",
   "metadata": {},
   "outputs": [
    {
     "name": "stdout",
     "output_type": "stream",
     "text": [
      "[8, 2]\n"
     ]
    }
   ],
   "source": [
    "l=[2, 4, 5, 8, 9]\n",
    "print(l[-2::-3])\n",
    "# Here, the step is negative that is why the fetching of element takes from right instead of left side. Also, the starting index\n",
    "# is -2, so it display all element from the index -2 upto the one element before the stopping index.\n",
    "# Also, the step is -3 so it display each third element from the starting index value."
   ]
  },
  {
   "cell_type": "code",
   "execution_count": 50,
   "id": "c4f56fc8",
   "metadata": {},
   "outputs": [
    {
     "name": "stdout",
     "output_type": "stream",
     "text": [
      "[9, 5, 2]\n"
     ]
    }
   ],
   "source": [
    "l=[2, 4, 5, 8, 9]\n",
    "print(l[::-2])\n",
    "# Here, the step is -2 so it display each second element from the starting negative index value."
   ]
  },
  {
   "cell_type": "markdown",
   "id": "3e988fa1",
   "metadata": {},
   "source": [
    "## Updating elements in the list\n",
    "Since list is mutable which means the elements in the list can be change."
   ]
  },
  {
   "cell_type": "code",
   "execution_count": 58,
   "id": "8b7833f5",
   "metadata": {},
   "outputs": [
    {
     "name": "stdout",
     "output_type": "stream",
     "text": [
      "Before changes : [2, 5, 4, 6, 7, 8]\n",
      "After changes : [2, 5, 1, 6, 7, 8]\n"
     ]
    }
   ],
   "source": [
    "l=[2,5,4,6,7,8]\n",
    "print(f\"Before changes : {l}\")\n",
    "l[2]=1     #----> Here, we are changing the element at index of 2 from 4 to 1.\n",
    "print(f\"After changes : {l}\")"
   ]
  },
  {
   "cell_type": "code",
   "execution_count": 59,
   "id": "0c0def9f",
   "metadata": {},
   "outputs": [
    {
     "name": "stdout",
     "output_type": "stream",
     "text": [
      "Before changes : [2, 5, 4, 6, 7, 8]\n",
      "After changes : [2, 5, 10, 20, 30, 8]\n"
     ]
    }
   ],
   "source": [
    "l=[2,5,4,6,7,8]\n",
    "print(f\"Before changes : {l}\")\n",
    "l[2:5]=[10,20,30]     #----> Here, we are changing the list of elements using slicing technique.\n",
    "print(f\"After changes : {l}\")"
   ]
  },
  {
   "cell_type": "code",
   "execution_count": 61,
   "id": "7825bc10",
   "metadata": {},
   "outputs": [
    {
     "name": "stdout",
     "output_type": "stream",
     "text": [
      "Before changes : [2, 5, 4, 6, 7, 8]\n",
      "After changes : [2, 5, 4, 6, 15, 8]\n"
     ]
    }
   ],
   "source": [
    "l=[2,5,4,6,7,8]\n",
    "print(f\"Before changes : {l}\")\n",
    "l[-2]=15     #----> Here, we are changing the element at index of -2 from 7 to 15.\n",
    "print(f\"After changes : {l}\")"
   ]
  },
  {
   "cell_type": "markdown",
   "id": "eb81df32",
   "metadata": {},
   "source": [
    "## List methods.\n",
    "Since list is dynamic in nature which means we can expand or shrink the list that is we can add or remove the elements from the list."
   ]
  },
  {
   "cell_type": "markdown",
   "id": "9af9dc16",
   "metadata": {},
   "source": [
    "#### 1. append() method\n",
    "This method append or add only single element at the end of the list. This is one of most used method of list.\n",
    "\n",
    "__Syntax__: List.append(item)\n",
    "\n",
    "This method takes one argument which can be string, number, list, set, tuple, etc."
   ]
  },
  {
   "cell_type": "code",
   "execution_count": 74,
   "id": "8118a423",
   "metadata": {},
   "outputs": [
    {
     "name": "stdout",
     "output_type": "stream",
     "text": [
      "Before using the method: ['Python', 'Java', 'HTML', 'JavaScript']\n",
      "After using the method: ['Python', 'Java', 'HTML', 'JavaScript', 'SQL']\n"
     ]
    }
   ],
   "source": [
    "l=[\"Python\", \"Java\", \"HTML\", \"JavaScript\"]\n",
    "print(f\"Before using the method: {l}\")\n",
    "l.append(\"SQL\")     #---> The element 'SQL' added to the last of the list\n",
    "print(f\"After using the method: {l}\")"
   ]
  },
  {
   "cell_type": "code",
   "execution_count": 75,
   "id": "8550d02e",
   "metadata": {},
   "outputs": [
    {
     "name": "stdout",
     "output_type": "stream",
     "text": [
      "['Python', 'Java', 'HTML', 'JavaScript', 'SQL', ['MYSQL', 'Oracle', 'MongoDB', 'Casandra']]\n"
     ]
    }
   ],
   "source": [
    "l2=[\"MYSQL\", \"Oracle\", \"MongoDB\", \"Casandra\"]\n",
    "l.append(l2) #---> Here, we are adding another list. Note list l2 considered as one element that is why its added to the list.\n",
    "print(l)"
   ]
  },
  {
   "cell_type": "markdown",
   "id": "3c8ea8bf",
   "metadata": {},
   "source": [
    "#### 2. extend() method\n",
    "This method adds all the elements of an iterable (list, tuple, string etc.) to the end of the list.\n",
    "\n",
    "__Syntax__: List.extend(iterable)\n",
    "\n",
    "This method takes an iterable such as list, tuple, string etc."
   ]
  },
  {
   "cell_type": "code",
   "execution_count": 76,
   "id": "013b8dec",
   "metadata": {},
   "outputs": [
    {
     "name": "stdout",
     "output_type": "stream",
     "text": [
      "Before using the method: ['Python', 'Java', 'HTML', 'JavaScript']\n",
      "After using the method: ['Python', 'Java', 'HTML', 'JavaScript', 'MYSQL', 'Oracle', 'MongoDB', 'Casandra']\n"
     ]
    }
   ],
   "source": [
    "l=[\"Python\", \"Java\", \"HTML\", \"JavaScript\"]\n",
    "print(f\"Before using the method: {l}\")\n",
    "l.extend([\"MYSQL\", \"Oracle\", \"MongoDB\", \"Casandra\"])   #--> Here, all the element of the second list added to the first list.\n",
    "print(f\"After using the method: {l}\")"
   ]
  },
  {
   "cell_type": "markdown",
   "id": "9dc1fec8",
   "metadata": {},
   "source": [
    "__Note__: In append method, only a single element is added to the list while in extend method, all the elements of another list, set, tuple added to the first list.\n",
    "\n",
    "That is, in append method, the length of list is increas by only 1 whereas in extend method, the length of the list can be increase by 1 or more than 1."
   ]
  },
  {
   "cell_type": "markdown",
   "id": "6dfaec7d",
   "metadata": {},
   "source": [
    "#### 3. insert() method\n",
    "This method inserts an element to the list at the specified index.\n",
    "\n",
    "__Syntax__: List.insert(index, element)\n",
    "\n",
    "The insert() method takes two parameters:\n",
    "\n",
    "- index - the index where the element needs to be inserted\n",
    "- element - this is the element to be inserted in the list"
   ]
  },
  {
   "cell_type": "code",
   "execution_count": 77,
   "id": "8527102c",
   "metadata": {},
   "outputs": [
    {
     "name": "stdout",
     "output_type": "stream",
     "text": [
      "Before using the method: ['Python', 'Java', 'HTML', 'JavaScript']\n",
      "After using the method: ['Python', 'Java', 'Scala', 'HTML', 'JavaScript']\n"
     ]
    }
   ],
   "source": [
    "l=[\"Python\", \"Java\", \"HTML\", \"JavaScript\"]\n",
    "print(f\"Before using the method: {l}\")\n",
    "l.insert(2, \"Scala\")   #--> Here, the element \"Scala\" is added at 2nd index.\n",
    "print(f\"After using the method: {l}\")"
   ]
  },
  {
   "cell_type": "markdown",
   "id": "2e87efb4",
   "metadata": {},
   "source": [
    "#### 4. remove() method\n",
    "The remove() method removes the first matching element (which is passed as an argument) from the list.\n",
    "\n",
    "__Syntax__: List.remove(element)\n",
    "\n",
    "The remove() method takes a single element as an argument and removes it from the list.\n",
    "If the element doesn't exist, it throws ValueError: list.remove(x): x not in list exception."
   ]
  },
  {
   "cell_type": "code",
   "execution_count": 78,
   "id": "d0b18d50",
   "metadata": {},
   "outputs": [
    {
     "name": "stdout",
     "output_type": "stream",
     "text": [
      "Before using the method: ['Python', 'Java', 'HTML', 'JavaScript']\n",
      "After using the method: ['Python', 'HTML', 'JavaScript']\n"
     ]
    }
   ],
   "source": [
    "l=[\"Python\", \"Java\", \"HTML\", \"JavaScript\"]\n",
    "print(f\"Before using the method: {l}\")\n",
    "l.remove(\"Java\")   #--> Here, the element \"Java\" is removed from the list.\n",
    "print(f\"After using the method: {l}\")"
   ]
  },
  {
   "cell_type": "markdown",
   "id": "4b84711d",
   "metadata": {},
   "source": [
    "__Note__: If a list contains duplicate elements, the remove() method only removes the first matching element."
   ]
  },
  {
   "cell_type": "code",
   "execution_count": 79,
   "id": "40258ecf",
   "metadata": {},
   "outputs": [
    {
     "ename": "ValueError",
     "evalue": "list.remove(x): x not in list",
     "output_type": "error",
     "traceback": [
      "\u001b[1;31m---------------------------------------------------------------------------\u001b[0m",
      "\u001b[1;31mValueError\u001b[0m                                Traceback (most recent call last)",
      "Cell \u001b[1;32mIn[79], line 1\u001b[0m\n\u001b[1;32m----> 1\u001b[0m \u001b[43ml\u001b[49m\u001b[38;5;241;43m.\u001b[39;49m\u001b[43mremove\u001b[49m\u001b[43m(\u001b[49m\u001b[38;5;124;43m\"\u001b[39;49m\u001b[38;5;124;43mScala\u001b[39;49m\u001b[38;5;124;43m\"\u001b[39;49m\u001b[43m)\u001b[49m   \u001b[38;5;66;03m#--> Here, the element \"Scala\" is not in the list. That is why it throws an error.\u001b[39;00m\n\u001b[0;32m      2\u001b[0m \u001b[38;5;28mprint\u001b[39m(\u001b[38;5;124mf\u001b[39m\u001b[38;5;124m\"\u001b[39m\u001b[38;5;132;01m{\u001b[39;00ml\u001b[38;5;132;01m}\u001b[39;00m\u001b[38;5;124m\"\u001b[39m)\n",
      "\u001b[1;31mValueError\u001b[0m: list.remove(x): x not in list"
     ]
    }
   ],
   "source": [
    "l.remove(\"Scala\")   #--> Here, the element \"Scala\" is not in the list. That is why it throws an error.\n",
    "print(f\"{l}\")"
   ]
  },
  {
   "cell_type": "markdown",
   "id": "0e9f2a0a",
   "metadata": {},
   "source": [
    "#### 5. pop() method\n",
    "The pop() method removes the item at the given index from the list and returns the removed item.\n",
    "\n",
    "__Syntax__: List.pop(index)\n",
    "\n",
    "The argument passed to the method is optional. If not passed, the default index -1 is passed as an argument (index of the last item)."
   ]
  },
  {
   "cell_type": "code",
   "execution_count": 80,
   "id": "ae015e3a",
   "metadata": {},
   "outputs": [
    {
     "name": "stdout",
     "output_type": "stream",
     "text": [
      "Before using the method: ['Python', 'Java', 'HTML', 'JavaScript']\n",
      "After using the method: ['Python', 'Java', 'JavaScript']\n"
     ]
    }
   ],
   "source": [
    "l=[\"Python\", \"Java\", \"HTML\", \"JavaScript\"]\n",
    "print(f\"Before using the method: {l}\")\n",
    "l.pop(2)   #--> Here, the element \"HTML\"  which is at index 2 is removed from the list.\n",
    "print(f\"After using the method: {l}\")"
   ]
  },
  {
   "cell_type": "code",
   "execution_count": 81,
   "id": "eb937462",
   "metadata": {},
   "outputs": [
    {
     "name": "stdout",
     "output_type": "stream",
     "text": [
      "Before using the method: ['Python', 'Java', 'HTML', 'JavaScript']\n",
      "After using the method: ['Python', 'Java', 'HTML']\n"
     ]
    }
   ],
   "source": [
    "l=[\"Python\", \"Java\", \"HTML\", \"JavaScript\"]\n",
    "print(f\"Before using the method: {l}\")\n",
    "l.pop()   #--> Here, the last element \"Javascript\" is removed from the list as no index is passed in the method.\n",
    "print(f\"After using the method: {l}\")"
   ]
  },
  {
   "cell_type": "code",
   "execution_count": 82,
   "id": "71e04733",
   "metadata": {},
   "outputs": [
    {
     "name": "stdout",
     "output_type": "stream",
     "text": [
      "JavaScript\n"
     ]
    }
   ],
   "source": [
    "l=[\"Python\", \"Java\", \"HTML\", \"JavaScript\"]\n",
    "print(l.pop())     #---> Here, the element \"Javascript is removed from the list.\""
   ]
  },
  {
   "cell_type": "markdown",
   "id": "c72f0ed7",
   "metadata": {},
   "source": [
    "__Note__: The pop() method returns the item present at the given index. This item is also removed from the list.\n",
    "\n",
    "__Note__: When we have to remove a particular element, then we will use remove() method but when we have to remove an element at a particular index or using the index, then we will use pop() method."
   ]
  },
  {
   "cell_type": "markdown",
   "id": "a822de05",
   "metadata": {},
   "source": [
    "#### 6. clear() method\n",
    "The clear() method removes all items from the list.\n",
    "\n",
    "__Syntax__: List.clear()\n",
    "\n",
    "This method doesn't take any argument."
   ]
  },
  {
   "cell_type": "code",
   "execution_count": 85,
   "id": "d2aa100d",
   "metadata": {},
   "outputs": [
    {
     "name": "stdout",
     "output_type": "stream",
     "text": [
      "Before using method: ['Python', 'Java', 'HTML', 'JavaScript']\n",
      "After using method: []\n"
     ]
    }
   ],
   "source": [
    "l=[\"Python\", \"Java\", \"HTML\", \"JavaScript\"]\n",
    "print(f\"Before using method: {l}\")\n",
    "l.clear()\n",
    "print(f\"After using method: {l}\")     #---> Here, all the elements are removed from the list.\""
   ]
  },
  {
   "cell_type": "markdown",
   "id": "50ee830f",
   "metadata": {},
   "source": [
    "#### 7. index() method\n",
    "The index() method gives the index of a particular element from the list.\n",
    "\n",
    "__Syntax__: List.index(element, start, end)\n",
    "\n",
    "The list index() method can take a maximum of three arguments:\n",
    "\n",
    "- element - the element to be searched.\n",
    "- start (optional) - start searching from this index\n",
    "- end (optional) - search the element up to this index\n",
    "\n",
    "The index() method returns the index of the given element in the list.\n",
    "If the element is not found, a ValueError exception is raised."
   ]
  },
  {
   "cell_type": "code",
   "execution_count": 87,
   "id": "5762c3ac",
   "metadata": {},
   "outputs": [
    {
     "name": "stdout",
     "output_type": "stream",
     "text": [
      "2\n"
     ]
    }
   ],
   "source": [
    "l=[\"Python\", \"Java\", \"HTML\", \"JavaScript\"]\n",
    "print(l.index(\"HTML\"))     #---> Here, the index of element \"HTML\" is returned."
   ]
  },
  {
   "cell_type": "code",
   "execution_count": 88,
   "id": "69c7456d",
   "metadata": {},
   "outputs": [
    {
     "name": "stdout",
     "output_type": "stream",
     "text": [
      "1\n"
     ]
    }
   ],
   "source": [
    "l=[\"Python\", \"Java\", \"HTML\", \"JavaScript\"]\n",
    "print(l.index(\"Java\"))     #---> Here, the index of element \"HTML\" is returned."
   ]
  },
  {
   "cell_type": "markdown",
   "id": "3038c6da",
   "metadata": {},
   "source": [
    "__Note__:  The index() method only returns the first occurrence of the matching element."
   ]
  },
  {
   "cell_type": "code",
   "execution_count": 90,
   "id": "716a3738",
   "metadata": {},
   "outputs": [
    {
     "data": {
      "text/plain": [
       "3"
      ]
     },
     "execution_count": 90,
     "metadata": {},
     "output_type": "execute_result"
    }
   ],
   "source": [
    "l = [ 2, 5, 6, 5, 7, 5, 8, 9]\n",
    "l.index(5, 3, 8)\n",
    "# Here 5 is the element that we need to look for, 3 is the start index and 8 is the end index. It means this index method search\n",
    "# 5 within the range of index 3 to 8."
   ]
  },
  {
   "cell_type": "markdown",
   "id": "b8e06c34",
   "metadata": {},
   "source": [
    "#### 8. count() method\n",
    "The count() method returns the number of times the specified element appears in the list.\n",
    "\n",
    "__Syntax__: List.count(element)\n",
    "\n",
    "The list index() method can take one argument and return the number of times that element appear in the list."
   ]
  },
  {
   "cell_type": "code",
   "execution_count": 91,
   "id": "18c1aedf",
   "metadata": {},
   "outputs": [
    {
     "data": {
      "text/plain": [
       "3"
      ]
     },
     "execution_count": 91,
     "metadata": {},
     "output_type": "execute_result"
    }
   ],
   "source": [
    "l = [ 2, 5, 6, 5, 7, 5, 8, 9]\n",
    "l.count(5)\n",
    "# Here 5 is the element that we need to look for. 5 comes three times in the list."
   ]
  },
  {
   "cell_type": "markdown",
   "id": "2f6f70d1",
   "metadata": {},
   "source": [
    "#### 9. reverse() method\n",
    "The reverse() method reverses the elements of the list.\n",
    "\n",
    "__Syntax__: List.reverse()\n",
    "\n",
    "The reverse() method doesn't take any arguments. The reverse() method doesn't return any value. It updates the existing list."
   ]
  },
  {
   "cell_type": "code",
   "execution_count": 94,
   "id": "9eec7200",
   "metadata": {},
   "outputs": [
    {
     "name": "stdout",
     "output_type": "stream",
     "text": [
      "[9, 8, 5, 7, 5, 6, 5, 2]\n"
     ]
    }
   ],
   "source": [
    "l = [ 2, 5, 6, 5, 7, 5, 8, 9]\n",
    "l.reverse()\n",
    "print(l)"
   ]
  },
  {
   "cell_type": "code",
   "execution_count": 95,
   "id": "f4fe938f",
   "metadata": {},
   "outputs": [
    {
     "name": "stdout",
     "output_type": "stream",
     "text": [
      "['Laptop', 'Mouse', 'Keyboard']\n"
     ]
    }
   ],
   "source": [
    "l = [\"Keyboard\", \"Mouse\", \"Laptop\"]\n",
    "l.reverse()\n",
    "print(l)"
   ]
  },
  {
   "cell_type": "markdown",
   "id": "44902dd5",
   "metadata": {},
   "source": [
    "#### 10. sort() method\n",
    "The sort() method sorts the items of a list in ascending or descending order.\n",
    "\n",
    "__Syntax__: list.sort(key=..., reverse=...)\n",
    "\n",
    "By default, sort() doesn't require any extra parameters. However, it has two optional parameters:\n",
    "\n",
    "- reverse - If True, the sorted list is reversed (or sorted in Descending order)\n",
    "- key - function that serves as a key for the sort comparison\n",
    "\n",
    "__Note__: The sort() method doesn't return any value. Rather, it changes the original list."
   ]
  },
  {
   "cell_type": "code",
   "execution_count": 96,
   "id": "a170ac26",
   "metadata": {},
   "outputs": [
    {
     "name": "stdout",
     "output_type": "stream",
     "text": [
      "[2, 5, 5, 5, 6, 7, 8, 9]\n"
     ]
    }
   ],
   "source": [
    "l = [ 2, 5, 6, 5, 7, 5, 8, 9]\n",
    "l.sort()\n",
    "print(l)\n",
    "# By default, it sort the list in ascending order."
   ]
  },
  {
   "cell_type": "code",
   "execution_count": 98,
   "id": "c2c235f4",
   "metadata": {},
   "outputs": [
    {
     "name": "stdout",
     "output_type": "stream",
     "text": [
      "[9, 8, 7, 6, 5, 5, 5, 2]\n"
     ]
    }
   ],
   "source": [
    "l = [ 2, 5, 6, 5, 7, 5, 8, 9]\n",
    "l.sort(reverse=True)\n",
    "print(l)\n",
    "# when reverse set to True, it sort the list in descending order."
   ]
  },
  {
   "cell_type": "code",
   "execution_count": 99,
   "id": "45c67d18",
   "metadata": {},
   "outputs": [
    {
     "name": "stdout",
     "output_type": "stream",
     "text": [
      "['Keyboard', 'Laptop', 'Mouse']\n"
     ]
    }
   ],
   "source": [
    "l = [\"Keyboard\", \"Mouse\", \"Laptop\"]\n",
    "l.sort()\n",
    "print(l)"
   ]
  },
  {
   "cell_type": "code",
   "execution_count": 101,
   "id": "7a00919f",
   "metadata": {},
   "outputs": [
    {
     "name": "stdout",
     "output_type": "stream",
     "text": [
      "['Mouse', 'Laptop', 'Keyboard']\n"
     ]
    }
   ],
   "source": [
    "l = [\"Keyboard\", \"Mouse\", \"Laptop\"]\n",
    "l.sort(key=len)     #---> Here we use len function for key. Len function gives the length of the element.\n",
    "print(l)       #---> Here sorting is done according to the length of the element in ascending order."
   ]
  },
  {
   "cell_type": "markdown",
   "id": "47082904",
   "metadata": {},
   "source": [
    "#### 11. copy() method\n",
    "The copy() method returns a shallow copy of the list.\n",
    "\n",
    "__Syntax__: list.copy()\n",
    "\n",
    "The copy() method doesn't take any parameters. The copy() method returns a new list. It doesn't modify the original list."
   ]
  },
  {
   "cell_type": "code",
   "execution_count": 102,
   "id": "e7000413",
   "metadata": {},
   "outputs": [
    {
     "name": "stdout",
     "output_type": "stream",
     "text": [
      "['Keyboard', 'Mouse', 'Laptop']\n",
      "['Keyboard', 'Mouse', 'Laptop']\n"
     ]
    }
   ],
   "source": [
    "l = [\"Keyboard\", \"Mouse\", \"Laptop\"]\n",
    "l2=l.copy()     \n",
    "print(l)\n",
    "print(l2)"
   ]
  },
  {
   "cell_type": "code",
   "execution_count": 103,
   "id": "e6239850",
   "metadata": {},
   "outputs": [
    {
     "name": "stdout",
     "output_type": "stream",
     "text": [
      "['Keyboard', 'Mouse', 'Laptop', 'Monitor']\n",
      "['Keyboard', 'Mouse', 'Laptop']\n"
     ]
    }
   ],
   "source": [
    "l.append(\"Monitor\")\n",
    "print(l)\n",
    "print(l2)"
   ]
  },
  {
   "cell_type": "markdown",
   "id": "b28eeb3c",
   "metadata": {},
   "source": [
    "__Note__: If we make any changes in the original list then there will no changes take place in the copy list."
   ]
  },
  {
   "cell_type": "markdown",
   "id": "1f5f2a5d",
   "metadata": {},
   "source": [
    "## Usage of some common built in python function with List"
   ]
  },
  {
   "cell_type": "markdown",
   "id": "5907c681",
   "metadata": {},
   "source": [
    "#### len()\n",
    "len() function gives the length of the object."
   ]
  },
  {
   "cell_type": "code",
   "execution_count": 1,
   "id": "832fc46b",
   "metadata": {},
   "outputs": [
    {
     "name": "stdout",
     "output_type": "stream",
     "text": [
      "6\n"
     ]
    }
   ],
   "source": [
    "l=[10,20,30,40,50,60]\n",
    "print(len(l))    \n",
    "# Here the list l have 6 elements that is why the length of the list l is 6."
   ]
  },
  {
   "cell_type": "code",
   "execution_count": 2,
   "id": "9c87121a",
   "metadata": {},
   "outputs": [
    {
     "name": "stdout",
     "output_type": "stream",
     "text": [
      "6\n"
     ]
    }
   ],
   "source": [
    "l=[10,20,30,[\"Hello\", 'Namaste', \"Good Morning\"],50,60]\n",
    "print(len(l))    \n",
    "# Here, the given list is a nested list, if you count, the list l have still 6 elements that is why the length of the list l is\n",
    "# 6. Although the inner list have 3 elements but this whole list considered as one element of the outer list."
   ]
  },
  {
   "cell_type": "markdown",
   "id": "c39d8672",
   "metadata": {},
   "source": [
    "#### max()\n",
    "max() function return the greater element in the list compare to the other elements."
   ]
  },
  {
   "cell_type": "code",
   "execution_count": 3,
   "id": "9603c927",
   "metadata": {},
   "outputs": [
    {
     "name": "stdout",
     "output_type": "stream",
     "text": [
      "50\n"
     ]
    }
   ],
   "source": [
    "l=[10,20,50,40,30,15]\n",
    "print(max(l))    \n",
    "# Here the largest element in the list is 50."
   ]
  },
  {
   "cell_type": "code",
   "execution_count": 22,
   "id": "fd444dc6",
   "metadata": {},
   "outputs": [
    {
     "name": "stdout",
     "output_type": "stream",
     "text": [
      "abhi\n"
     ]
    }
   ],
   "source": [
    "l=[\"Hello\", \"Namaste\", \"Good Morning\", \"abhi\"]\n",
    "print(max(l))    \n",
    "# Here the max() function works on the based of ASCII value. since the first character of \"abhi\" is whose ASCII value is 97 \n",
    "# which is greater than the all ASCII value of each element first character."
   ]
  },
  {
   "cell_type": "code",
   "execution_count": 24,
   "id": "46a9b5f8",
   "metadata": {},
   "outputs": [
    {
     "ename": "TypeError",
     "evalue": "'>' not supported between instances of 'str' and 'int'",
     "output_type": "error",
     "traceback": [
      "\u001b[1;31m---------------------------------------------------------------------------\u001b[0m",
      "\u001b[1;31mTypeError\u001b[0m                                 Traceback (most recent call last)",
      "Cell \u001b[1;32mIn[24], line 2\u001b[0m\n\u001b[0;32m      1\u001b[0m l\u001b[38;5;241m=\u001b[39m[\u001b[38;5;241m10\u001b[39m,\u001b[38;5;241m20\u001b[39m,\u001b[38;5;241m30\u001b[39m,\u001b[38;5;124m\"\u001b[39m\u001b[38;5;124mBye\u001b[39m\u001b[38;5;124m\"\u001b[39m,[\u001b[38;5;124m\"\u001b[39m\u001b[38;5;124mHello\u001b[39m\u001b[38;5;124m\"\u001b[39m, \u001b[38;5;124m'\u001b[39m\u001b[38;5;124mNamaste\u001b[39m\u001b[38;5;124m'\u001b[39m, \u001b[38;5;124m\"\u001b[39m\u001b[38;5;124mGood Morning\u001b[39m\u001b[38;5;124m\"\u001b[39m],\u001b[38;5;241m50\u001b[39m,\u001b[38;5;241m60\u001b[39m]\n\u001b[1;32m----> 2\u001b[0m \u001b[38;5;28mprint\u001b[39m(\u001b[38;5;28;43mmax\u001b[39;49m\u001b[43m(\u001b[49m\u001b[43ml\u001b[49m\u001b[43m)\u001b[49m)\n",
      "\u001b[1;31mTypeError\u001b[0m: '>' not supported between instances of 'str' and 'int'"
     ]
    }
   ],
   "source": [
    "l=[10,20,30,\"Bye\",[\"Hello\", 'Namaste', \"Good Morning\"],50,60]\n",
    "print(max(l))    \n",
    "# max() function works on homogeneous datatype instead of heteregeneous datatype."
   ]
  },
  {
   "cell_type": "markdown",
   "id": "3f79a753",
   "metadata": {},
   "source": [
    "#### min()\n",
    "min() function return the smallest element in the list compare to the other elements."
   ]
  },
  {
   "cell_type": "code",
   "execution_count": 25,
   "id": "785e1923",
   "metadata": {},
   "outputs": [
    {
     "name": "stdout",
     "output_type": "stream",
     "text": [
      "10\n"
     ]
    }
   ],
   "source": [
    "l=[10,20,50,40,30,15]\n",
    "print(min(l))    \n",
    "# Here the minimum element in the list is 10."
   ]
  },
  {
   "cell_type": "code",
   "execution_count": 26,
   "id": "14500f2f",
   "metadata": {},
   "outputs": [
    {
     "name": "stdout",
     "output_type": "stream",
     "text": [
      "Good Morning\n"
     ]
    }
   ],
   "source": [
    "l=[\"Hello\", \"Namaste\", \"Good Morning\", \"abhi\"]\n",
    "print(min(l))    \n",
    "# min() function also works on the based of ASCII value."
   ]
  },
  {
   "cell_type": "markdown",
   "id": "bd1af32e",
   "metadata": {},
   "source": [
    "__Note__: min() function also works on homogeneous datatype."
   ]
  },
  {
   "cell_type": "markdown",
   "id": "0698cca6",
   "metadata": {},
   "source": [
    "#### sum()\n",
    "sum() function return the sum of all the element in the list."
   ]
  },
  {
   "cell_type": "code",
   "execution_count": 28,
   "id": "a6372990",
   "metadata": {},
   "outputs": [
    {
     "name": "stdout",
     "output_type": "stream",
     "text": [
      "165\n"
     ]
    }
   ],
   "source": [
    "l=[10,20,50,40,30,15]\n",
    "print(sum(l))    \n",
    "# Here this function gives the sum of all the elements. 10+20+50+40+30+15=165"
   ]
  },
  {
   "cell_type": "markdown",
   "id": "d600a79f",
   "metadata": {},
   "source": [
    "__Note__: sum() function works on integer or float datatype elements."
   ]
  },
  {
   "cell_type": "markdown",
   "id": "5c49d148",
   "metadata": {},
   "source": [
    "https://github.com/Abhishekk-Git"
   ]
  }
 ],
 "metadata": {
  "kernelspec": {
   "display_name": "Python 3 (ipykernel)",
   "language": "python",
   "name": "python3"
  },
  "language_info": {
   "codemirror_mode": {
    "name": "ipython",
    "version": 3
   },
   "file_extension": ".py",
   "mimetype": "text/x-python",
   "name": "python",
   "nbconvert_exporter": "python",
   "pygments_lexer": "ipython3",
   "version": "3.10.9"
  }
 },
 "nbformat": 4,
 "nbformat_minor": 5
}
